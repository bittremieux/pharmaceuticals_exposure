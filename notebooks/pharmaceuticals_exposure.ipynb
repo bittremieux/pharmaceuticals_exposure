{
 "cells": [
  {
   "cell_type": "code",
   "execution_count": null,
   "metadata": {},
   "outputs": [],
   "source": [
    "import re\n",
    "\n",
    "import cartopy.crs as ccrs\n",
    "import matplotlib.pyplot as plt\n",
    "import pandas as pd\n",
    "import seaborn as sns\n",
    "import tqdm.notebook as tqdm\n",
    "from matplotlib.backends.backend_pdf import PdfPages"
   ]
  },
  {
   "cell_type": "code",
   "execution_count": null,
   "metadata": {},
   "outputs": [],
   "source": [
    "plt.style.use(['seaborn-white', 'seaborn-paper'])\n",
    "plt.rc('font', family='serif')\n",
    "sns.set_palette(['#9e0059', '#6da7de', '#ee266d', '#dee000', '#eb861e'])\n",
    "sns.set_context('paper', font_scale=1.3)    # Single-column figure."
   ]
  },
  {
   "cell_type": "code",
   "execution_count": null,
   "metadata": {},
   "outputs": [],
   "source": [
    "# Read all annotations.\n",
    "task_ids = ['308b3393', '18cf4e52', 'c0249eb6', 'debd3bbb',\n",
    "            '8cdb4d7d', 'a9e7e4b1', '334ed0d9', 'b55aef34']\n",
    "filename = ('/home/wout/Projects/suspect_list/data/processed/'\n",
    "            'MOLECULAR-LIBRARYSEARCH-V2-{}-view_all_annotations_DB-main.tsv.xz')\n",
    "annotations = (pd.concat([pd.read_csv(filename.format(task_id), sep='\\t')\n",
    "                          for task_id in task_ids])\n",
    "               .reset_index())\n",
    "annotations['full_CCMS_path'] = 'f.' + annotations['full_CCMS_path']"
   ]
  },
  {
   "cell_type": "code",
   "execution_count": null,
   "metadata": {},
   "outputs": [],
   "source": [
    "# Combine annotations with ReDU metadata.\n",
    "redu_sample_info = pd.read_csv('http://redu.ucsd.edu/dump', sep='\\t')\n",
    "annotations_redu = pd.merge(\n",
    "    annotations,\n",
    "    redu_sample_info,\n",
    "    left_on='full_CCMS_path',\n",
    "    right_on='filename'\n",
    ")"
   ]
  },
  {
   "cell_type": "code",
   "execution_count": null,
   "metadata": {},
   "outputs": [],
   "source": [
    "# Filter by ReDU annotations with location information.\n",
    "annotations_redu = annotations_redu[\n",
    "    ~annotations_redu['LatitudeandLongitude'].isin(\n",
    "        ['not specified', 'not applicable', 'not applicable|not applicable']\n",
    "    )\n",
    "]\n",
    "# Filter by human samples.\n",
    "annotations_redu = annotations_redu[\n",
    "    annotations_redu['NCBITaxonomy'] == '9606|Homo sapiens'\n",
    "]"
   ]
  },
  {
   "cell_type": "code",
   "execution_count": null,
   "metadata": {},
   "outputs": [],
   "source": [
    "# Filter by curated list of drug names.\n",
    "drug_names = pd.read_csv(\n",
    "    '../data/external/broad_institute_drug_list.csv',\n",
    "    usecols=['pert_iname'],\n",
    "    squeeze=True\n",
    ")\n",
    "drug_names_re = '|'.join(\n",
    "    [re.escape(drug) for drug in drug_names.str.lower().values]\n",
    ")\n",
    "\n",
    "annotations_redu_drug = annotations_redu[\n",
    "    annotations_redu['Compound_Name'].str.lower().str.contains(drug_names_re)\n",
    "].reset_index(drop=True)\n",
    "\n",
    "\n",
    "# Clean drug names.\n",
    "drug_names_mapping = pd.read_csv(\n",
    "    \"../data/external/drug_mapping.csv\",\n",
    "    index_col=\"name_old\",\n",
    "    usecols=[\"name_old\", \"name_new\"],\n",
    "    squeeze=True).to_dict()\n",
    "annotations_redu_drug.replace(drug_names_mapping, inplace=True)"
   ]
  },
  {
   "cell_type": "code",
   "execution_count": null,
   "metadata": {},
   "outputs": [],
   "source": [
    "annotations_redu_drug.to_csv(\n",
    "    \"../data/interim/annotations_redu_drug.tsv.xz\", sep=\"\\t\"\n",
    ")"
   ]
  },
  {
   "cell_type": "code",
   "execution_count": null,
   "metadata": {},
   "outputs": [],
   "source": [
    "min_locations = 5\n",
    "\n",
    "with PdfPages(\"pharmaceuticals_exposure.pdf\") as pdf:\n",
    "    for compound_name in tqdm.tqdm(\n",
    "            sorted(annotations_redu_drug[\"Compound_Name\"].unique())\n",
    "        ):\n",
    "        lats, lons = [], []\n",
    "        compound_lat_lon = annotations_redu_drug.loc[\n",
    "            annotations_redu_drug[\"Compound_Name\"] == compound_name,\n",
    "            \"LatitudeandLongitude\"\n",
    "        ].dropna().unique()\n",
    "        for lat_lon in compound_lat_lon:\n",
    "            if '|' not in lat_lon:\n",
    "                continue\n",
    "            try:\n",
    "                lat, lon = (float(l) for l in lat_lon.split(\"|\"))\n",
    "                lats.append(lat)\n",
    "                lons.append(lon)\n",
    "            except ValueError:\n",
    "                # Non-numeric latitude/longitude.\n",
    "                pass\n",
    "        \n",
    "        if len(lats) < min_locations:\n",
    "            continue\n",
    "        \n",
    "        fig, ax = plt.subplots(figsize=(10, 10))\n",
    "        ax = plt.subplot(projection=ccrs.PlateCarree())\n",
    "\n",
    "        ax.coastlines()\n",
    "        \n",
    "        ax.scatter(lons, lats, marker=\".\", transform=ccrs.PlateCarree())\n",
    "\n",
    "        ax.set_title(compound_name)\n",
    "\n",
    "        ax.set_global()\n",
    "\n",
    "#         plt.savefig(f\"{compound_name}.png\", dpi=300, bbox_inches=\"tight\")\n",
    "#         plt.show()\n",
    "        pdf.savefig(bbox_inches=\"tight\")\n",
    "        plt.close()"
   ]
  }
 ],
 "metadata": {
  "kernelspec": {
   "display_name": "Python 3",
   "language": "python",
   "name": "python3"
  },
  "language_info": {
   "codemirror_mode": {
    "name": "ipython",
    "version": 3
   },
   "file_extension": ".py",
   "mimetype": "text/x-python",
   "name": "python",
   "nbconvert_exporter": "python",
   "pygments_lexer": "ipython3",
   "version": "3.7.6"
  }
 },
 "nbformat": 4,
 "nbformat_minor": 5
}
